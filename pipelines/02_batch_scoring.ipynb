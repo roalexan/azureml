{
 "cells": [
  {
   "cell_type": "markdown",
   "metadata": {},
   "source": [
    "Copyright (c) Microsoft Corporation. All rights reserved.  \n",
    "Licensed under the MIT License."
   ]
  },
  {
   "cell_type": "markdown",
   "metadata": {},
   "source": [
    "## Prerequisites\n",
    "Make sure you go through the configuration Notebook located at https://github.com/Azure/MachineLearningNotebooks first if you haven't. This sets you up with a working config file that has information on your workspace, subscription id, etc. "
   ]
  },
  {
   "cell_type": "code",
   "execution_count": null,
   "metadata": {},
   "outputs": [],
   "source": [
    "from azureml.core import Datastore\n",
    "from azureml.core import Experiment\n",
    "from azureml.core.compute import AmlCompute, ComputeTarget, DataFactoryCompute\n",
    "from azureml.core.conda_dependencies import CondaDependencies\n",
    "from azureml.core.datastore import Datastore\n",
    "from azureml.core.runconfig import CondaDependencies, RunConfiguration\n",
    "from azureml.data.data_reference import DataReference\n",
    "from azureml.pipeline.core import Pipeline, PipelineData\n",
    "from azureml.pipeline.steps import PythonScriptStep\n",
    "from azureml.pipeline.steps import DataTransferStep\n",
    "from azureml.exceptions import ComputeTargetException"
   ]
  },
  {
   "cell_type": "code",
   "execution_count": null,
   "metadata": {},
   "outputs": [],
   "source": [
    "import os\n",
    "from azureml.core import Workspace, Run, Experiment\n",
    "\n",
    "ws = Workspace.from_config()\n",
    "print('Workspace name: ' + ws.name, \n",
    "      'Azure region: ' + ws.location, \n",
    "      'Subscription id: ' + ws.subscription_id, \n",
    "      'Resource group: ' + ws.resource_group, sep = '\\n')\n"
   ]
  },
  {
   "cell_type": "markdown",
   "metadata": {},
   "source": [
    "## Set up machine learning resources"
   ]
  },
  {
   "cell_type": "markdown",
   "metadata": {},
   "source": [
    "### Set up datastores\n",
    "First, let???s access the datastore that has the model, labels, and images. \n",
    "\n",
    "### Create a datastore that points to a blob container containing sample images\n",
    "\n",
    "We have created a public blob container `sampledata` on an account named `pipelinedata`, containing images from the ImageNet evaluation set. In the next step, we create a datastore with the name `images_datastore`, which points to this container. In the call to `register_azure_blob_container` below, setting the `overwrite` flag to `True` overwrites any datastore that was created previously with that name. \n",
    "\n",
    "This step can be changed to point to your blob container by providing your own `datastore_name`, `container_name`, and `account_name`."
   ]
  },
  {
   "cell_type": "code",
   "execution_count": null,
   "metadata": {},
   "outputs": [],
   "source": [
    "datastore_name_blob=\"MyBlobDatastore\"\n",
    "account_name_blob = \"XXXXXXXX\"\n",
    "container_name_blob=\"batchscoring\"\n",
    "account_key_blob=\"XXXXXXXX\"\n",
    "\n",
    "blob_datastore = Datastore.register_azure_blob_container(ws, \n",
    "                      datastore_name=datastore_name_blob, \n",
    "                      container_name=container_name_blob, \n",
    "                      account_name=account_name_blob,\n",
    "                      account_key= account_key_blob,                                   \n",
    "                      overwrite=True)\n",
    "print(\"registered datastore with name: %s\" % datastore_name_blob)"
   ]
  },
  {
   "cell_type": "code",
   "execution_count": null,
   "metadata": {},
   "outputs": [],
   "source": [
    "datastore_name_adls=\"MyAdlsDatastore\"\n",
    "store_name_adls=\"XXXXXXXX\"\n",
    "tenant_id=\"XXXXXXXX\"\n",
    "client_id=\"XXXXXXXX\"\n",
    "client_secret=\"XXXXXXXX\"\n",
    "\n",
    "adls_datastore = Datastore.register_azure_data_lake(\n",
    "        workspace=ws,\n",
    "        datastore_name=datastore_name_adls,\n",
    "        subscription_id=ws.subscription_id, # subscription id of ADLS account\n",
    "        resource_group=ws.resource_group, # resource group of ADLS account\n",
    "        store_name=store_name_adls, # ADLS account name\n",
    "        tenant_id=tenant_id, # tenant id of service principal\n",
    "        client_id=client_id, # client id of service principal\n",
    "        client_secret=client_secret) # the secret of service principal\n",
    "print(\"registered datastore with name: %s\" % datastore_name_adls)"
   ]
  },
  {
   "cell_type": "markdown",
   "metadata": {},
   "source": [
    "### Configure data references\n",
    "Now you need to add references to the data, as inputs to the appropriate pipeline steps in your pipeline. A data source in a pipeline is represented by a DataReference object. The DataReference object points to data that lives in, or is accessible from, a datastore. We need DataReference objects corresponding to the following: the directory containing the input images, the directory in which the pretrained model is stored, the directory containing the labels, and the output directory."
   ]
  },
  {
   "cell_type": "code",
   "execution_count": null,
   "metadata": {},
   "outputs": [],
   "source": [
    "# https://docs.microsoft.com/en-us/azure/machine-learning/service/reference-azure-machine-learning-cli\n",
    "\n",
    "input_dir_adls_dataref = DataReference(datastore=adls_datastore,\n",
    "                          data_reference_name=\"input_dir_adls\",\n",
    "                          path_on_datastore=\"input\",\n",
    "                          mode=\"download\")\n",
    "model_dir_adls_dataref = DataReference(datastore=adls_datastore,\n",
    "                          data_reference_name=\"model_dir_adls\",\n",
    "                          path_on_datastore=\"model\",\n",
    "                          mode=\"download\")\n",
    "output_dir_adls_dataref = DataReference(datastore=adls_datastore,\n",
    "                          data_reference_name=\"output_dir_adls\",\n",
    "                          path_on_datastore=\"output\")"
   ]
  },
  {
   "cell_type": "code",
   "execution_count": null,
   "metadata": {},
   "outputs": [],
   "source": [
    "input_dir_blob_dataref = DataReference(datastore=blob_datastore, \n",
    "                             data_reference_name=\"input_dir_blob\",\n",
    "                             path_on_datastore=\"input_from_adls\")\n",
    "model_dir_blob_dataref = DataReference(datastore=blob_datastore, \n",
    "                          data_reference_name=\"model_dir_blob\",\n",
    "                          path_on_datastore=\"model_from_adls\")\n",
    "#output_dir_blob_dataref = DataReference(datastore=blob_datastore, \n",
    "#                          data_reference_name=\"output_dir_blob\",\n",
    "#                          path_on_datastore=\"output_to_adls\")\n",
    "output_dir_blob_pipedata = PipelineData(name=\"output\", # folder path\n",
    "                          datastore=blob_datastore, \n",
    "                          output_path_on_compute=\"output_to_adls\")"
   ]
  },
  {
   "cell_type": "markdown",
   "metadata": {},
   "source": [
    "### Create and attach Compute targets\n",
    "Use the below code to create and attach Compute targets. "
   ]
  },
  {
   "cell_type": "code",
   "execution_count": null,
   "metadata": {},
   "outputs": [],
   "source": [
    "import os\n",
    "\n",
    "# choose a name for your cluster\n",
    "aml_compute_name = os.environ.get(\"AML_COMPUTE_NAME\", \"gpu-cluster\")\n",
    "#aml_compute_name = os.environ.get(\"AML_COMPUTE_NAME\", \"cpu-cluster\")\n",
    "cluster_min_nodes = os.environ.get(\"AML_COMPUTE_MIN_NODES\", 0)\n",
    "cluster_max_nodes = os.environ.get(\"AML_COMPUTE_MAX_NODES\", 1)\n",
    "vm_size = os.environ.get(\"AML_COMPUTE_SKU\", \"STANDARD_NC6\")\n",
    "#vm_size = os.environ.get(\"AML_COMPUTE_SKU\", \"STANDARD_D2_V2\")\n",
    "\n",
    "\n",
    "if aml_compute_name in ws.compute_targets:\n",
    "    compute_target = ws.compute_targets[aml_compute_name]\n",
    "    if compute_target and type(compute_target) is AmlCompute:\n",
    "        print('found compute target. just use it. ' + aml_compute_name)\n",
    "else:\n",
    "    print('creating a new compute target...')\n",
    "    provisioning_config = AmlCompute.provisioning_configuration(vm_size = vm_size, # NC6 is GPU-enabled\n",
    "                                                                vm_priority = 'lowpriority', # optional\n",
    "                                                                min_nodes = cluster_min_nodes, \n",
    "                                                                max_nodes = cluster_max_nodes)\n",
    "\n",
    "    # create the cluster\n",
    "    compute_target = ComputeTarget.create(ws, aml_compute_name, provisioning_config)\n",
    "    \n",
    "    # can poll for a minimum number of nodes and for a specific timeout. \n",
    "    # if no min node count is provided it will use the scale settings for the cluster\n",
    "    compute_target.wait_for_completion(show_output=True, min_node_count=None, timeout_in_minutes=20)\n",
    "    \n",
    "     # For a more detailed view of current Azure Machine Learning Compute  status, use the 'status' property    \n",
    "    print(compute_target.status.serialize())"
   ]
  },
  {
   "cell_type": "markdown",
   "metadata": {},
   "source": [
    "## Prepare the Model"
   ]
  },
  {
   "cell_type": "markdown",
   "metadata": {},
   "source": [
    "### Download the Model\n",
    "\n",
    "Download and extract the model from http://download.tensorflow.org/models/inception_v3_2016_08_28.tar.gz to `\"models\"`"
   ]
  },
  {
   "cell_type": "code",
   "execution_count": null,
   "metadata": {},
   "outputs": [],
   "source": [
    "# create directory for model\n",
    "model_dir = 'models'\n",
    "if not os.path.isdir(model_dir):\n",
    "    os.mkdir(model_dir)"
   ]
  },
  {
   "cell_type": "code",
   "execution_count": null,
   "metadata": {},
   "outputs": [],
   "source": [
    "#https://docs.microsoft.com/en-us/azure/data-lake-store/data-lake-store-data-operations-python\n",
    "#https://stackoverflow.com/questions/48208389/python-code-to-access-azure-data-lake-store#48213226\n",
    "!pip install azure-mgmt-resource\n",
    "!pip install azure-mgmt-datalake-store\n",
    "!pip install azure-datalake-store\n",
    "\n",
    "from azure.datalake.store import core, lib, multithread\n",
    "\n",
    "## Download a file\n",
    "token = lib.auth(tenant_id = tenant_id, client_secret = client_secret, client_id = client_id)\n",
    "adlsFileSystemClient = core.AzureDLFileSystem(token, store_name=store_name_adls)\n",
    "multithread.ADLDownloader(adlsFileSystemClient, \n",
    "                          #lpath=model_dir,\n",
    "                          lpath='models',\n",
    "                          rpath='model',\n",
    "                          nthreads=64, overwrite=True, buffersize=4194304, blocksize=4194304)"
   ]
  },
  {
   "cell_type": "markdown",
   "metadata": {},
   "source": [
    "### Register the model with Workspace"
   ]
  },
  {
   "cell_type": "code",
   "execution_count": null,
   "metadata": {},
   "outputs": [],
   "source": [
    "import shutil\n",
    "from azureml.core.model import Model\n",
    "\n",
    "# register downloaded model \n",
    "model = Model.register(model_path = \"models/\",\n",
    "                       model_name = \"keras\", # this is the name the model is registered as\n",
    "                       tags = {'pretrained': \"keras\"},\n",
    "                       description = \"Keras model used to score Indian dataset\",\n",
    "                       workspace = ws)\n",
    "# remove the downloaded dir after registration if you wish\n",
    "#shutil.rmtree(\"models\")"
   ]
  },
  {
   "cell_type": "markdown",
   "metadata": {},
   "source": [
    "## Write your scoring script"
   ]
  },
  {
   "cell_type": "markdown",
   "metadata": {},
   "source": [
    "To do the scoring, we use a batch scoring script `batch_scoring.py`, which is located in the same directory that this notebook is in. You can take a look at this script to see how you might modify it for your custom batch scoring task.\n",
    "\n",
    "The python script `batch_scoring.py` takes input images, applies the image classification model to these images, and outputs a classification result to a results file.\n",
    "\n",
    "The script `batch_scoring.py` takes the following parameters:\n",
    "\n",
    "- `--model_name`: the name of the model being used, which is expected to be in the `model_dir` directory\n",
    "- `--label_dir` : the directory holding the `labels.txt` file \n",
    "- `--dataset_path`: the directory containing the input images\n",
    "- `--output_dir` : the script will run the model on the data and output a `results-label.txt` to this directory\n",
    "- `--batch_size` : the batch size used in running the model.\n"
   ]
  },
  {
   "cell_type": "markdown",
   "metadata": {},
   "source": [
    "## Build and run the batch scoring pipeline\n",
    "You have everything you need to build the pipeline. Let???s put all these together."
   ]
  },
  {
   "cell_type": "markdown",
   "metadata": {},
   "source": [
    "###  Specify the environment to run the script\n",
    "Specify the conda dependencies for your script. You will need this object when you create the pipeline step later on."
   ]
  },
  {
   "cell_type": "code",
   "execution_count": null,
   "metadata": {},
   "outputs": [],
   "source": [
    "from azureml.core.runconfig import DEFAULT_GPU_IMAGE\n",
    "\n",
    "#cd = CondaDependencies.create(pip_packages=[\"tensorflow-gpu==1.10.0\", \"azureml-defaults\"])\n",
    "cd = CondaDependencies.create(pip_packages=[\"tensorflow-gpu==1.10.0\", \"azureml-defaults\", \"keras\"])\n",
    "\n",
    "# Runconfig\n",
    "amlcompute_run_config = RunConfiguration(conda_dependencies=cd)\n",
    "amlcompute_run_config.environment.docker.enabled = True\n",
    "amlcompute_run_config.environment.docker.gpu_support = True\n",
    "amlcompute_run_config.environment.docker.base_image = DEFAULT_GPU_IMAGE\n",
    "amlcompute_run_config.environment.spark.precache_packages = False"
   ]
  },
  {
   "cell_type": "markdown",
   "metadata": {},
   "source": [
    "### Specify the parameters for your pipeline\n",
    "A subset of the parameters to the python script can be given as input when we re-run a `PublishedPipeline`. In the current example, we define `batch_size` taken by the script as such parameter."
   ]
  },
  {
   "cell_type": "code",
   "execution_count": null,
   "metadata": {},
   "outputs": [],
   "source": [
    "#from azureml.pipeline.core.graph import PipelineParameter\n",
    "#batch_size_param = PipelineParameter(name=\"param_batch_size\", default_value=20)"
   ]
  },
  {
   "cell_type": "markdown",
   "metadata": {},
   "source": [
    "### Create the pipeline step\n",
    "Create the pipeline step using the script, environment configuration, and parameters. Specify the compute target you already attached to your workspace as the target of execution of the script. We will use PythonScriptStep to create the pipeline step."
   ]
  },
  {
   "cell_type": "code",
   "execution_count": null,
   "metadata": {},
   "outputs": [],
   "source": [
    "data_factory_name = 'adftest'\n",
    "\n",
    "def get_or_create_data_factory(workspace, factory_name):\n",
    "    try:\n",
    "        return DataFactoryCompute(workspace, factory_name)\n",
    "    except ComputeTargetException as e:\n",
    "        if 'ComputeTargetNotFound' in e.message:\n",
    "            print('Data factory not found, creating...')\n",
    "            provisioning_config = DataFactoryCompute.provisioning_configuration()\n",
    "            data_factory = ComputeTarget.create(workspace, factory_name, provisioning_config)\n",
    "            data_factory.wait_for_completion()\n",
    "            return data_factory\n",
    "        else:\n",
    "            raise e\n",
    "            \n",
    "data_factory_compute = get_or_create_data_factory(ws, data_factory_name)\n",
    "\n",
    "print(\"setup data factory account complete\")\n",
    "\n",
    "# CLI:\n",
    "# Create: az ml computetarget setup datafactory -n <name>\n",
    "# BYOC: az ml computetarget attach datafactory -n <name> -i <resource-id>"
   ]
  },
  {
   "cell_type": "code",
   "execution_count": null,
   "metadata": {},
   "outputs": [],
   "source": [
    "copy_input_data_from_adls_to_blob = DataTransferStep(\n",
    "    name=\"transfer_adls_to_blob\",\n",
    "    source_data_reference=input_dir_adls_dataref,\n",
    "    destination_data_reference=input_dir_blob_dataref,\n",
    "    compute_target=data_factory_compute,\n",
    "    allow_reuse=False)\n",
    "\n",
    "print(\"data transfer step created\")"
   ]
  },
  {
   "cell_type": "code",
   "execution_count": null,
   "metadata": {},
   "outputs": [],
   "source": [
    "batch_score_step_keras_registered = PythonScriptStep(\n",
    "    name=\"batch_scoring\",\n",
    "    script_name=\"batch_scoring.py\",\n",
    "    arguments=[\"--input_dir\", input_dir_blob_dataref,\n",
    "               \"--output_dir\", output_dir_blob_pipedata],\n",
    "    compute_target=compute_target,\n",
    "    inputs=[input_dir_blob_dataref],\n",
    "    outputs=[output_dir_blob_pipedata],\n",
    "    runconfig=amlcompute_run_config,\n",
    "    allow_reuse=False\n",
    ")"
   ]
  },
  {
   "cell_type": "code",
   "execution_count": null,
   "metadata": {},
   "outputs": [],
   "source": [
    "copy_output_data_from_blob_to_adls = DataTransferStep(\n",
    "    name=\"transfer_blob_to_adls\",\n",
    "    source_data_reference=output_dir_blob_pipedata,\n",
    "    destination_data_reference=output_dir_adls_dataref,\n",
    "    compute_target=data_factory_compute,\n",
    "    allow_reuse=False,\n",
    "    source_reference_type=\"directory\")\n",
    "\n",
    "print(\"data transfer step created\")"
   ]
  },
  {
   "cell_type": "markdown",
   "metadata": {},
   "source": [
    "### Run the pipeline\n",
    "At this point you can run the pipeline and examine the output it produced. "
   ]
  },
  {
   "cell_type": "code",
   "execution_count": null,
   "metadata": {},
   "outputs": [],
   "source": [
    "pipeline = Pipeline(workspace=ws, steps=[copy_input_data_from_adls_to_blob,\n",
    "                                         batch_score_step_keras_registered,\n",
    "                                         copy_output_data_from_blob_to_adls])\n",
    "pipeline_run = Experiment(ws, 'batch_scoring_keras').submit(pipeline, pipeline_params={})"
   ]
  },
  {
   "cell_type": "code",
   "execution_count": null,
   "metadata": {},
   "outputs": [],
   "source": [
    "pipeline_run.wait_for_completion(show_output=True)"
   ]
  }
 ],
 "metadata": {
  "authors": [
   {
    "name": "hichando"
   }
  ],
  "kernelspec": {
   "display_name": "Python [conda env:AzureML]",
   "language": "python",
   "name": "conda-env-AzureML-py"
  },
  "language_info": {
   "codemirror_mode": {
    "name": "ipython",
    "version": 3
   },
   "file_extension": ".py",
   "mimetype": "text/x-python",
   "name": "python",
   "nbconvert_exporter": "python",
   "pygments_lexer": "ipython3",
   "version": "3.6.7"
  }
 },
 "nbformat": 4,
 "nbformat_minor": 2
}
